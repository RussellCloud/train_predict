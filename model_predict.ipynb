{
 "cells": [
  {
   "cell_type": "code",
   "execution_count": 1,
   "metadata": {
    "collapsed": true,
    "deletable": true,
    "editable": true
   },
   "outputs": [],
   "source": [
    "import numpy as np\n",
    "import tensorflow as tf\n",
    "import matplotlib.pyplot as plt\n",
    "import pandas as pd\n",
    "\n",
    "#读取数据\n",
    "df = pd.read_csv(\"/input/train_data.csv\")  \n",
    "data = np.array(df['铁路客运量_当期值(万人)'])"
   ]
  },
  {
   "cell_type": "code",
   "execution_count": 2,
   "metadata": {
    "collapsed": true,
    "deletable": true,
    "editable": true
   },
   "outputs": [],
   "source": [
    "# 数据预处理\n",
    "normalized_data = (data - np.mean(data)) / np.std(data)\n",
    "\n",
    "seq_size = 3\n",
    "train_x, train_y = [], []\n",
    "for i in range(len(normalized_data) - seq_size - 1):\n",
    "\ttrain_x.append(np.expand_dims(normalized_data[i : i + seq_size], axis=1).tolist())\n",
    "\ttrain_y.append(normalized_data[i + 1 : i + seq_size + 1].tolist())\n",
    "\n",
    "input_dim = 1\n",
    "X = tf.placeholder(tf.float32, [None, seq_size, input_dim])\n",
    "Y = tf.placeholder(tf.float32, [None, seq_size])"
   ]
  },
  {
   "cell_type": "code",
   "execution_count": 3,
   "metadata": {
    "collapsed": true,
    "deletable": true,
    "editable": true
   },
   "outputs": [],
   "source": [
    "# regression\n",
    "def ass_rnn(hidden_layer_size=6):\n",
    "\tW = tf.Variable(tf.random_normal([hidden_layer_size, 1]), name='W')\n",
    "\tb = tf.Variable(tf.random_normal([1]), name='b')\n",
    "\tcell = tf.nn.rnn_cell.BasicLSTMCell(hidden_layer_size)\n",
    "\toutputs, states = tf.nn.dynamic_rnn(cell, X, dtype=tf.float32)\n",
    "\tW_repeated = tf.tile(tf.expand_dims(W, 0), [tf.shape(X)[0], 1, 1])\n",
    "\tout = tf.batch_matmul(outputs, W_repeated) + b\n",
    "\tout = tf.squeeze(out)\n",
    "\treturn out"
   ]
  },
  {
   "cell_type": "code",
   "execution_count": 4,
   "metadata": {
    "collapsed": false,
    "deletable": true,
    "editable": true
   },
   "outputs": [
    {
     "data": {
      "image/png": "[encoded data removed]",
      "text/plain": [
       "<matplotlib.figure.Figure at 0x7fb54e4d90b8>"
      ]
     },
     "metadata": {},
     "output_type": "display_data"
    }
   ],
   "source": [
    "def prediction():\n",
    "\tout = ass_rnn()\n",
    "\n",
    "\tsaver = tf.train.Saver(tf.global_variables())\n",
    "\twith tf.Session() as sess:\n",
    "\t\t#tf.get_variable_scope().reuse_variables()\n",
    "\t\tsaver.restore(sess, 'output/ass.model')\n",
    "\t\t\n",
    "\t\tprev_seq = train_x[-1]\n",
    "\t\tpredict = []\n",
    "\t\tfor i in range(12):\n",
    "\t\t\tnext_seq = sess.run(out, feed_dict={X: [prev_seq]})\n",
    "\t\t\tpredict.append(next_seq[-1])\n",
    "\t\t\tprev_seq = np.vstack((prev_seq[1:], next_seq[-1]))\n",
    "\n",
    "\t\tplt.figure()\n",
    "\t\tplt.plot(list(range(len(normalized_data))), normalized_data, color='b')\n",
    "\t\tplt.plot(list(range(len(normalized_data), len(normalized_data) + len(predict))), predict, color='r')\n",
    "\t\tplt.show()\n",
    "\n",
    "prediction()"
   ]
  },
  {
   "cell_type": "code",
   "execution_count": null,
   "metadata": {
    "collapsed": true,
    "deletable": true,
    "editable": true
   },
   "outputs": [],
   "source": []
  }
 ],
 "metadata": {
  "kernelspec": {
   "display_name": "Python 3",
   "language": "python",
   "name": "python3"
  },
  "language_info": {
   "codemirror_mode": {
    "name": "ipython",
    "version": 3
   },
   "file_extension": ".py",
   "mimetype": "text/x-python",
   "name": "python",
   "nbconvert_exporter": "python",
   "pygments_lexer": "ipython3",
   "version": "3.5.3"
  }
 },
 "nbformat": 4,
 "nbformat_minor": 2
}
